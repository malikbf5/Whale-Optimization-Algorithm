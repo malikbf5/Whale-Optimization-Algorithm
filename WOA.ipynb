{
  "nbformat": 4,
  "nbformat_minor": 0,
  "metadata": {
    "colab": {
      "provenance": [],
      "authorship_tag": "ABX9TyONSkZh3/0Fz5h3TBxojVGX",
      "include_colab_link": true
    },
    "kernelspec": {
      "name": "python3",
      "display_name": "Python 3"
    },
    "language_info": {
      "name": "python"
    }
  },
  "cells": [
    {
      "cell_type": "markdown",
      "metadata": {
        "id": "view-in-github",
        "colab_type": "text"
      },
      "source": [
        "<a href=\"https://colab.research.google.com/github/malikbf5/Whale-Optimization-Algorithm/blob/main/WOA.ipynb\" target=\"_parent\"><img src=\"https://colab.research.google.com/assets/colab-badge.svg\" alt=\"Open In Colab\"/></a>"
      ]
    },
    {
      "cell_type": "markdown",
      "source": [
        "#Definition of the Ackley function\n",
        "The Ackley function is widely used for testing optimization algorithms. In its two-dimensional form it is characterized by a nearly flat outer region, and a large hole at the centre. The function poses a risk for optimization algorithms, particularly hill climbing algorithms, to be trapped in one of its many local minima.\n",
        "---\n",
        "\n"
      ],
      "metadata": {
        "id": "_lF5FvFgUomT"
      }
    },
    {
      "cell_type": "code",
      "source": [
        "import random\n",
        "import math  \n",
        "import copy  \n",
        "import sys  \n",
        "import numpy as np\n",
        "import matplotlib.pyplot as plt\n",
        "\n",
        "# ackley function\n",
        "def fitness_ackley(position):\n",
        "    # recommended values for a, b and c\n",
        "    a = 20\n",
        "    b = 0.2\n",
        "    c = 2 * np.pi\n",
        "    term_1 = 0\n",
        "    term_2 = 0\n",
        "    for i in range(len(position)):\n",
        "        xi = position[i]\n",
        "        term_1 += (xi**2)/len(position)\n",
        "        term_2 += np.cos(c*xi)/len(position)\n",
        "    fitness_value = -a*np.exp(-b*np.sqrt(term_1)) - np.exp(term_2) + a + np.exp(1)\n",
        "    return fitness_value"
      ],
      "metadata": {
        "id": "jDMBg10KsNB0"
      },
      "execution_count": 1,
      "outputs": []
    },
    {
      "cell_type": "markdown",
      "source": [
        "#Whale class"
      ],
      "metadata": {
        "id": "DOCS6vWRVMmi"
      }
    },
    {
      "cell_type": "code",
      "source": [
        "class whale:\n",
        "    def __init__(self, fitness, dim, minx, maxx, seed):\n",
        "        self.rnd = random.Random(seed)\n",
        "        self.position = [0.0 for i in range(dim)]\n",
        " \n",
        "        for i in range(dim):\n",
        "            self.position[i] = ((maxx - minx) * self.rnd.random() + minx)\n",
        " \n",
        "        self.fitness = fitness(self.position)  "
      ],
      "metadata": {
        "id": "08-VV4KrsuTI"
      },
      "execution_count": 2,
      "outputs": []
    },
    {
      "cell_type": "markdown",
      "source": [
        "#WOA algorithm"
      ],
      "metadata": {
        "id": "dg-qJHJpVYF7"
      }
    },
    {
      "cell_type": "code",
      "source": [
        "def woa(fitness, max_iter, n, dim, minx, maxx):\n",
        "    rnd = random.Random(0)\n",
        " \n",
        "    # create n random whales\n",
        "    whalePopulation = [whale(fitness, dim, minx, maxx, i) for i in range(n)]\n",
        " \n",
        "    # compute the value of best_position and best_fitness in the whale Population\n",
        "    Xbest = [0.0 for i in range(dim)]\n",
        "    Fbest = sys.float_info.max\n",
        " \n",
        "    for i in range(n):  # check each whale\n",
        "        if whalePopulation[i].fitness < Fbest:\n",
        "            Fbest = whalePopulation[i].fitness\n",
        "            Xbest = copy.copy(whalePopulation[i].position)\n",
        " \n",
        "    # main loop of woa\n",
        "    t = 0\n",
        "    while t < max_iter:\n",
        " \n",
        "        # after every 10 iterations\n",
        "        # print iteration number and best fitness value so far\n",
        "        if t % 10 == 0 and t > 1:\n",
        "            print(\"Iter = \" + str(t) + \" best fitness = %.3f\" % Fbest)\n",
        " \n",
        "        # linearly decreased from 2 to 0\n",
        "        a = 2 * (1 - t / max_iter)\n",
        "        a2=-1+t*((-1)/max_iter)\n",
        " \n",
        "        for i in range(n):\n",
        "            A = 2 * a * rnd.random() - a\n",
        "            C = 2 * rnd.random()\n",
        "            b = 1\n",
        "            l = (a2-1)*rnd.random()+1;\n",
        "            p = rnd.random()\n",
        " \n",
        "            D = [0.0 for i in range(dim)]\n",
        "            D1 = [0.0 for i in range(dim)]\n",
        "            Xnew = [0.0 for i in range(dim)]\n",
        "            Xrand = [0.0 for i in range(dim)]\n",
        "            if p < 0.5:\n",
        "                if abs(A) > 1:\n",
        "                    for j in range(dim):\n",
        "                        D[j] = abs(C * Xbest[j] - whalePopulation[i].position[j])\n",
        "                        Xnew[j] = Xbest[j] - A * D[j]\n",
        "                else:\n",
        "                    p = random.randint(0, n - 1)\n",
        "                    while (p == i):\n",
        "                        p = random.randint(0, n - 1)\n",
        " \n",
        "                    Xrand = whalePopulation[p].position\n",
        " \n",
        "                    for j in range(dim):\n",
        "                        D[j] = abs(C * Xrand[j] - whalePopulation[i].position[j])\n",
        "                        Xnew[j] = Xrand[j] - A * D[j]\n",
        "            else:\n",
        "                for j in range(dim):\n",
        "                    D1[j] = abs(Xbest[j] - whalePopulation[i].position[j])\n",
        "                    Xnew[j] = D1[j] * math.exp(b * l) * math.cos(2 * math.pi * l) + Xbest[j]\n",
        " \n",
        "            for j in range(dim):\n",
        "                whalePopulation[i].position[j] = Xnew[j]\n",
        " \n",
        "        for i in range(n):\n",
        "            # if Xnew < minx OR Xnew > maxx\n",
        "            # then clip it\n",
        "            for j in range(dim):\n",
        "                whalePopulation[i].position[j] = max(whalePopulation[i].position[j], minx)\n",
        "                whalePopulation[i].position[j] = min(whalePopulation[i].position[j], maxx)\n",
        " \n",
        "            whalePopulation[i].fitness = fitness(whalePopulation[i].position)\n",
        " \n",
        "            if (whalePopulation[i].fitness < Fbest):\n",
        "                Xbest = copy.copy(whalePopulation[i].position)\n",
        "                Fbest = whalePopulation[i].fitness\n",
        " \n",
        " \n",
        "        t += 1\n",
        "    # end-while\n",
        " \n",
        "    # returning the best solution\n",
        "    return Xbest"
      ],
      "metadata": {
        "id": "8jl4ZrRmVWZI"
      },
      "execution_count": 3,
      "outputs": []
    },
    {
      "cell_type": "markdown",
      "source": [
        "#Application of the algorithm on the Ackley function "
      ],
      "metadata": {
        "id": "aLia0-uvVhxs"
      }
    },
    {
      "cell_type": "code",
      "source": [
        "print(\"\\nBegin whale optimization algorithm on ackley's function\\n\")\n",
        "dim = 2\n",
        "fitness = fitness_ackley\n",
        " \n",
        "print(\"Goal is to minimize ackley's function in \" + str(dim) + \" variables\")\n",
        "print(\"Function has known min = 0.0 at (\", end=\"\")\n",
        "for i in range(dim - 1):\n",
        "    print(\"0, \", end=\"\")\n",
        "print(\"0)\")\n",
        " \n",
        "num_whales = 50\n",
        "max_iter = 150\n",
        " \n",
        "print(\"Setting num_whales = \" + str(num_whales))\n",
        "print(\"Setting max_iter    = \" + str(max_iter))\n",
        "print(\"\\nStarting WOA algorithm\\n\")\n",
        " \n",
        "best_position = woa(fitness, max_iter, num_whales, dim, -10.0, 10.0)\n",
        " \n",
        "print(\"\\nWOA completed\\n\")\n",
        "print(\"\\nBest solution found:\")\n",
        "print([\"%.6f\" % best_position[k] for k in range(dim)])\n",
        "err = fitness(best_position)\n",
        "print(\"fitness of best solution = %.6f\" % err)\n",
        " \n",
        "print(\"\\nEnd WOA for ackley's function\\n\")\n",
        "\n",
        "# Visualization of the Ackley function in 3D\n",
        "r_min, r_max = -32.768, 32.768\n",
        "xaxis = np.arange(r_min, r_max, 2.0)\n",
        "yaxis = np.arange(r_min, r_max, 2.0)\n",
        "x, y = np.meshgrid(xaxis, yaxis)\n",
        "results = fitness_ackley([x, y])\n",
        "figure = plt.figure()\n",
        "axis = figure.gca( projection='3d')\n",
        "axis.plot_surface(x, y, results, cmap='jet', shade= \"false\")\n",
        "plt.show()\n"
      ],
      "metadata": {
        "colab": {
          "base_uri": "https://localhost:8080/",
          "height": 897
        },
        "id": "kTF7PWKkVewl",
        "outputId": "57a09a5e-f88f-415a-849c-06b56f22bae0"
      },
      "execution_count": 4,
      "outputs": [
        {
          "output_type": "stream",
          "name": "stdout",
          "text": [
            "\n",
            "Begin whale optimization algorithm on ackley's function\n",
            "\n",
            "Goal is to minimize ackley's function in 2 variables\n",
            "Function has known min = 0.0 at (0, 0)\n",
            "Setting num_whales = 50\n",
            "Setting max_iter    = 150\n",
            "\n",
            "Starting WOA algorithm\n",
            "\n",
            "Iter = 10 best fitness = 0.060\n",
            "Iter = 20 best fitness = 0.018\n",
            "Iter = 30 best fitness = 0.013\n",
            "Iter = 40 best fitness = 0.004\n",
            "Iter = 50 best fitness = 0.003\n",
            "Iter = 60 best fitness = 0.001\n",
            "Iter = 70 best fitness = 0.000\n",
            "Iter = 80 best fitness = 0.000\n",
            "Iter = 90 best fitness = 0.000\n",
            "Iter = 100 best fitness = 0.000\n",
            "Iter = 110 best fitness = 0.000\n",
            "Iter = 120 best fitness = 0.000\n",
            "Iter = 130 best fitness = 0.000\n",
            "Iter = 140 best fitness = 0.000\n",
            "\n",
            "WOA completed\n",
            "\n",
            "\n",
            "Best solution found:\n",
            "['0.000000', '-0.000000']\n",
            "fitness of best solution = 0.000000\n",
            "\n",
            "End WOA for ackley's function\n",
            "\n"
          ]
        },
        {
          "output_type": "stream",
          "name": "stderr",
          "text": [
            "<ipython-input-4-73b27610cbe7>:35: MatplotlibDeprecationWarning: Calling gca() with keyword arguments was deprecated in Matplotlib 3.4. Starting two minor releases later, gca() will take no keyword arguments. The gca() function should only be used to get the current axes, or if no axes exist, create new axes with default keyword arguments. To create a new axes with non-default arguments, use plt.axes() or plt.subplot().\n",
            "  axis = figure.gca( projection='3d')\n"
          ]
        },
        {
          "output_type": "display_data",
          "data": {
            "text/plain": [
              "<Figure size 432x288 with 1 Axes>"
            ],
            "image/png": "[encoded data removed]"
          },
          "metadata": {
            "needs_background": "light"
          }
        }
      ]
    },
    {
      "cell_type": "markdown",
      "source": [],
      "metadata": {
        "id": "5ZQMi8gJVuFD"
      }
    },
    {
      "cell_type": "code",
      "source": [],
      "metadata": {
        "id": "md6R76PnVr4z"
      },
      "execution_count": null,
      "outputs": []
    }
  ]
}